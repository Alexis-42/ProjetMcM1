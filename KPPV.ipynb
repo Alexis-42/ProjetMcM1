{
 "cells": [
  {
   "cell_type": "markdown",
   "metadata": {},
   "source": [
    "<h1 style=\"text-align: center;\">AAG - Méthodes Classiques en IA</h1>\n"
   ]
  },
  {
   "cell_type": "markdown",
   "metadata": {},
   "source": [
    "## KPPV"
   ]
  },
  {
   "cell_type": "markdown",
   "metadata": {},
   "source": [
    "### Préparation du dataset & création des corpus"
   ]
  },
  {
   "cell_type": "code",
   "execution_count": 78,
   "metadata": {},
   "outputs": [],
   "source": [
    "import numpy as np\n",
    "import pandas as pd\n",
    "import matplotlib.pyplot as plt\n",
    "from sklearn.model_selection import train_test_split\n",
    "\n",
    "# Chargement du dataset dans une DataFrame\n",
    "dataset_R6 = pd.read_csv(\"./DatasetR6/S5_operators.csv\", sep=';')\n",
    "\n",
    "# on calcule le w/r\n",
    "dataset_R6.insert(dataset_R6.shape[1],\"w/r\", (dataset_R6[\"nbwins\"]/dataset_R6[\"nbpicks\"]), True) \n",
    "dataset_R6.drop(columns=[\"nbwins\",\"nbpicks\",\"role\"], inplace=True)\n",
    "\n",
    "# on calcule le k/d\n",
    "dataset_R6.loc[dataset_R6['nbdeaths'] == 0] = 1\n",
    "# on a une ligne qui fait que des 1 partout \n",
    "dataset_R6.drop(axis=0, index=dataset_R6[dataset_R6['operator'] == 1].index, inplace=True)\n",
    "dataset_R6['k/d'] = dataset_R6['nbkills'] / dataset_R6['nbdeaths']\n",
    "\n",
    "\n",
    "# on merge et enleve les colonnes plateformes et dateid sans perdre les données associées\n",
    "dataset_R6 = dataset_R6.groupby(['skillrank','operator', 'primaryweapon', 'secondaryweapon', 'secondarygadget'], as_index=False)[['w/r', 'k/d']].mean()\n",
    "\n",
    "# discretisation de w/r\n",
    "dataset_R6.insert(dataset_R6.shape[1],\"target\", (dataset_R6[\"w/r\"]>=0.5).astype(int), True) \n",
    "\n",
    "dataset_R6.drop(columns=[\"w/r\"], inplace=True)\n",
    "\n",
    "#discrétisation de k/d\n",
    "dataset_R6['k/d'] = (dataset_R6[\"k/d\"]>=1.0).astype(int)\n",
    "\n",
    "\n",
    "# changement de la taille d'affichage des dataframes\n",
    "#pd.set_option('display.max_rows', dataset_R6.shape[0]+1)\n",
    "\n",
    "corpus_annot = dataset_R6.copy()\n",
    "corpus_annot = corpus_annot[['target']]\n",
    "\n",
    "corpus_non_annot = dataset_R6.copy()\n",
    "corpus_non_annot.drop(columns=[\"target\"], inplace=True)\n",
    "\n",
    "x_train, x_test, y_train, y_test = train_test_split(corpus_non_annot, corpus_annot, test_size=1/3, random_state=42, stratify=corpus_annot)\n",
    "\n",
    "corpus_test_non_annot = x_test.copy()\n",
    "\n",
    "corpus_train = x_train.copy()\n",
    "corpus_train['target'] = y_train.copy()\n",
    "\n",
    "corpus_verif = x_test.copy()\n",
    "corpus_verif['target'] = y_test.copy()\n",
    "\n",
    "#corpus_verif.head(30)\n"
   ]
  },
  {
   "cell_type": "code",
   "execution_count": 79,
   "metadata": {},
   "outputs": [],
   "source": [
    "'''\n",
    "fonction qui calcule la distance de hamming entre deux vecteurs\n",
    "\n",
    "'''\n",
    "\n",
    "def hamming(x, y):\n",
    "    cpt = 0\n",
    "    #print(x, y)\n",
    "    for i in range(0, len(y)-1):\n",
    "        if x[i] != y[i]:\n",
    "            cpt += 1\n",
    "    return cpt\n",
    "\n",
    "\n",
    "'''\n",
    "fonction qui réalise l'alogrithme des k plus proches voisins pour un corpus de test\n",
    "\n",
    "'''\n",
    "\n",
    "def kppv_hyp_row(corpus_train,corpus_test, k):\n",
    "    nouveau_corpus = corpus_test.copy()\n",
    "    for row in corpus_test.itertuples():\n",
    "        matrice_distance = []\n",
    "        for row2 in corpus_train.itertuples():\n",
    "            matrice_distance.append(hamming(row, row2))\n",
    "                \n",
    "        matrice_des_indices_des_elements_les_plus_proches = []\n",
    "        #print(matrice_distance)\n",
    "\n",
    "        for i in range(0, k):\n",
    "            matrice_des_indices_des_elements_les_plus_proches.append(matrice_distance.index(min(matrice_distance)))\n",
    "            matrice_distance[matrice_distance.index(min(matrice_distance))] = 1000\n",
    "\n",
    "        cpt_0 = 0\n",
    "        cpt_1 = 0\n",
    "        #print(matrice_des_indices_des_elements_les_plus_proches)\n",
    "        \n",
    "        for i in matrice_des_indices_des_elements_les_plus_proches:\n",
    "            #print(i,corpus_train.iloc[i]['target'])\n",
    "            if corpus_train.iloc[i]['target'] == 1:\n",
    "                cpt_1 += 1\n",
    "            else:\n",
    "                cpt_0 += 1\n",
    "        \n",
    "        if cpt_1 > cpt_0:\n",
    "            nouveau_corpus.at[row.Index, 'target'] = 1\n",
    "        else:\n",
    "            nouveau_corpus.at[row.Index, 'target'] = 0\n",
    "\n",
    "    return nouveau_corpus\n"
   ]
  },
  {
   "cell_type": "code",
   "execution_count": 80,
   "metadata": {},
   "outputs": [
    {
     "name": "stdout",
     "output_type": "stream",
     "text": [
      "     skillrank          operator primaryweapon secondaryweapon  \\\n",
      "583     Copper        SWAT-PULSE         M1014      M45 MEUSOC   \n",
      "962       Gold      GIGN-RESERVE            F2          LFP586   \n",
      "992       Gold         GIGN-ROOK           P90              P9   \n",
      "1612    Silver         GIGN-ROOK        SG-CQB              P9   \n",
      "368     Copper      GIGN-RESERVE        SG-CQB          LFP586   \n",
      "...        ...               ...           ...             ...   \n",
      "1256  Platinum          GIGN-DOC           MP5              P9   \n",
      "2146  Unranked     SWAT-THERMITE         M1014         5.7 USG   \n",
      "2075  Unranked  SPETSNAZ-RESERVE       9x19VSN          GSH-18   \n",
      "277     Bronze        SWAT-PULSE         UMP45         5.7 USG   \n",
      "94      Bronze       GSG9-BANDIT           MP7             P12   \n",
      "\n",
      "        secondarygadget  k/d  target  \n",
      "583          NITRO CELL    0     0.0  \n",
      "962        FRAG GRENADE    0     0.0  \n",
      "992   DEPLOYABLE SHIELD    0     1.0  \n",
      "1612  DEPLOYABLE SHIELD    0     1.0  \n",
      "368   DEPLOYABLE SHIELD    0     0.0  \n",
      "...                 ...  ...     ...  \n",
      "1256        BARBED WIRE    1     1.0  \n",
      "2146           CLAYMORE    0     0.0  \n",
      "2075         NITRO CELL    0     0.0  \n",
      "277          NITRO CELL    0     0.0  \n",
      "94          BARBED WIRE    0     0.0  \n",
      "\n",
      "[717 rows x 7 columns]\n"
     ]
    }
   ],
   "source": [
    "corpus_train2 = corpus_train.head(10)\n",
    "corpus_test = corpus_test_non_annot.head(30)\n",
    "\n",
    "\n",
    "\n",
    "a = kppv_hyp_row(corpus_train,corpus_test_non_annot, 3)\n",
    "print(a)"
   ]
  },
  {
   "cell_type": "code",
   "execution_count": 81,
   "metadata": {},
   "outputs": [
    {
     "name": "stdout",
     "output_type": "stream",
     "text": [
      "Nous avons 618 bonnes annotations et 99 mauvaises annotations sur 717 données ce qui donne un accuracy de 86.19246861924687%\n"
     ]
    }
   ],
   "source": [
    "nb_true, nb_false  = kppv_hyp_row(corpus_train,corpus_test_non_annot, 3).eq(corpus_verif)['target'].value_counts()\n",
    "print(f'Nous avons {nb_true} bonnes annotations et {nb_false} mauvaises annotations sur {nb_true+nb_false} données ce qui donne un accuracy de {(nb_true/(nb_true+nb_false))*100}%')\n"
   ]
  }
 ],
 "metadata": {
  "kernelspec": {
   "display_name": "Python 3",
   "language": "python",
   "name": "python3"
  },
  "language_info": {
   "codemirror_mode": {
    "name": "ipython",
    "version": 3
   },
   "file_extension": ".py",
   "mimetype": "text/x-python",
   "name": "python",
   "nbconvert_exporter": "python",
   "pygments_lexer": "ipython3",
   "version": "3.11.4"
  },
  "orig_nbformat": 4
 },
 "nbformat": 4,
 "nbformat_minor": 2
}
